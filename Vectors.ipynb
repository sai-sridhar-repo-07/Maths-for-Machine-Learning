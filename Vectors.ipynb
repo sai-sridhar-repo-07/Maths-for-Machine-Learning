{
 "cells": [
  {
   "cell_type": "code",
   "execution_count": 1,
   "id": "e6bb21c9-aafd-4413-9953-06e48ab88e2a",
   "metadata": {},
   "outputs": [],
   "source": [
    "import numpy as np"
   ]
  },
  {
   "cell_type": "code",
   "execution_count": 3,
   "id": "23b1fc1a-2107-4810-9b22-7d47c0c77f10",
   "metadata": {},
   "outputs": [
    {
     "data": {
      "text/plain": [
       "array([ 1.5,  3. , 67. , 89. , -4.5])"
      ]
     },
     "execution_count": 3,
     "metadata": {},
     "output_type": "execute_result"
    }
   ],
   "source": [
    "X = np.array([1.5,3,67,89,-4.5])\n",
    "X"
   ]
  },
  {
   "cell_type": "code",
   "execution_count": 8,
   "id": "41c59988-c701-4bbf-976a-7e87bd027cd4",
   "metadata": {},
   "outputs": [
    {
     "data": {
      "text/plain": [
       "array([1., 1., 1.])"
      ]
     },
     "execution_count": 8,
     "metadata": {},
     "output_type": "execute_result"
    }
   ],
   "source": [
    "np.ones(shape=3)"
   ]
  },
  {
   "cell_type": "code",
   "execution_count": 9,
   "id": "99846e06-b8c8-481d-bdb3-c18b6794c365",
   "metadata": {},
   "outputs": [
    {
     "data": {
      "text/plain": [
       "array([0., 0., 0., 0., 0., 0.])"
      ]
     },
     "execution_count": 9,
     "metadata": {},
     "output_type": "execute_result"
    }
   ],
   "source": [
    "np.zeros(shape=6)"
   ]
  },
  {
   "cell_type": "code",
   "execution_count": 10,
   "id": "c9c9f980-7a34-4636-9a25-5c91a0ae75b3",
   "metadata": {},
   "outputs": [
    {
     "data": {
      "text/plain": [
       "array([0.49278395, 0.70433416, 0.37074044, 0.00693574, 0.67756466,\n",
       "       0.03690062, 0.43512357, 0.76256642, 0.09498618, 0.38699502,\n",
       "       0.46919118, 0.93271726, 0.69850938, 0.28899048, 0.50414703,\n",
       "       0.44497112, 0.15172742, 0.04231098, 0.64672507, 0.0515397 ])"
      ]
     },
     "execution_count": 10,
     "metadata": {},
     "output_type": "execute_result"
    }
   ],
   "source": [
    "np.random.rand(20)"
   ]
  },
  {
   "cell_type": "code",
   "execution_count": 11,
   "id": "509623d8-5d0d-4bce-aebd-620ff9fabc2a",
   "metadata": {},
   "outputs": [
    {
     "data": {
      "text/plain": [
       "array([ 3., 67.])"
      ]
     },
     "execution_count": 11,
     "metadata": {},
     "output_type": "execute_result"
    }
   ],
   "source": [
    "X[1:3]"
   ]
  },
  {
   "cell_type": "code",
   "execution_count": 12,
   "id": "634f105b-df7a-4dac-925e-11878ce2449b",
   "metadata": {},
   "outputs": [],
   "source": [
    "X[3] = 100"
   ]
  },
  {
   "cell_type": "code",
   "execution_count": 16,
   "id": "aec72106-c036-4b88-b4c1-71088268823c",
   "metadata": {},
   "outputs": [
    {
     "data": {
      "text/plain": [
       "array([  1.5,   3. ,  67. , 100. ,  -4.5])"
      ]
     },
     "execution_count": 16,
     "metadata": {},
     "output_type": "execute_result"
    }
   ],
   "source": [
    "X"
   ]
  },
  {
   "cell_type": "code",
   "execution_count": 17,
   "id": "5830647e-c726-4fe9-8dab-79c5ede2d2d0",
   "metadata": {},
   "outputs": [
    {
     "data": {
      "text/plain": [
       "dtype('float64')"
      ]
     },
     "execution_count": 17,
     "metadata": {},
     "output_type": "execute_result"
    }
   ],
   "source": [
    "X.dtype"
   ]
  },
  {
   "cell_type": "code",
   "execution_count": 18,
   "id": "b9d035d7-6e5d-4afd-afe0-04f36aaf54a7",
   "metadata": {},
   "outputs": [
    {
     "name": "stdout",
     "output_type": "stream",
     "text": [
      "1.5\n",
      "3.0\n",
      "67.0\n",
      "100.0\n",
      "-4.5\n"
     ]
    }
   ],
   "source": [
    "for i in X:\n",
    "    print(i)"
   ]
  },
  {
   "cell_type": "code",
   "execution_count": 20,
   "id": "e3c4265b-80cb-4802-96a9-4bbbf8db3ef8",
   "metadata": {},
   "outputs": [],
   "source": [
    "v1 = np.array([1,-4,5,6])\n",
    "v2 =  np.array([-3,5,9,-5])"
   ]
  },
  {
   "cell_type": "code",
   "execution_count": 21,
   "id": "a4b9080d-c7d7-4541-9b40-96f49a7aeea4",
   "metadata": {},
   "outputs": [
    {
     "data": {
      "text/plain": [
       "array([-2,  1, 14,  1])"
      ]
     },
     "execution_count": 21,
     "metadata": {},
     "output_type": "execute_result"
    }
   ],
   "source": [
    "v1+v2"
   ]
  },
  {
   "cell_type": "code",
   "execution_count": 22,
   "id": "a623d79a-0132-41e8-b36c-9741ba628c94",
   "metadata": {},
   "outputs": [
    {
     "data": {
      "text/plain": [
       "array([ 10, -40,  50,  60])"
      ]
     },
     "execution_count": 22,
     "metadata": {},
     "output_type": "execute_result"
    }
   ],
   "source": [
    "10*v1"
   ]
  },
  {
   "cell_type": "code",
   "execution_count": 23,
   "id": "1c23d44b-5e02-4078-bbbb-a8544a75beb9",
   "metadata": {},
   "outputs": [
    {
     "data": {
      "text/plain": [
       "array([ -3, -20,  45, -30])"
      ]
     },
     "execution_count": 23,
     "metadata": {},
     "output_type": "execute_result"
    }
   ],
   "source": [
    "v1*v2"
   ]
  },
  {
   "cell_type": "code",
   "execution_count": null,
   "id": "fb38eb2c-16d5-421e-a674-29a63f1f3f16",
   "metadata": {},
   "outputs": [],
   "source": []
  }
 ],
 "metadata": {
  "kernelspec": {
   "display_name": "Python 3 (ipykernel)",
   "language": "python",
   "name": "python3"
  },
  "language_info": {
   "codemirror_mode": {
    "name": "ipython",
    "version": 3
   },
   "file_extension": ".py",
   "mimetype": "text/x-python",
   "name": "python",
   "nbconvert_exporter": "python",
   "pygments_lexer": "ipython3",
   "version": "3.13.5"
  }
 },
 "nbformat": 4,
 "nbformat_minor": 5
}
