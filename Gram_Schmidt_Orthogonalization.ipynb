{
 "cells": [
  {
   "cell_type": "code",
   "execution_count": 2,
   "id": "7852820f-6096-4603-a73f-2f978e766563",
   "metadata": {},
   "outputs": [],
   "source": [
    "import numpy as np"
   ]
  },
  {
   "cell_type": "code",
   "execution_count": 3,
   "id": "8fd45abd-2e1a-4b6b-a8de-cd22655d1ec5",
   "metadata": {},
   "outputs": [],
   "source": [
    "x = np.array([2,-4,6,7])\n",
    "y = np.array([4,5,8,-9])"
   ]
  },
  {
   "cell_type": "code",
   "execution_count": 4,
   "id": "4478d3a1-aad7-4db1-aceb-dbfe41b9d446",
   "metadata": {},
   "outputs": [
    {
     "data": {
      "text/plain": [
       "array([ 6,  1, 14, -2])"
      ]
     },
     "execution_count": 4,
     "metadata": {},
     "output_type": "execute_result"
    }
   ],
   "source": [
    "x+y"
   ]
  },
  {
   "cell_type": "code",
   "execution_count": 5,
   "id": "de0ea7c2-c677-4b5a-81d0-745a855d82ef",
   "metadata": {},
   "outputs": [],
   "source": [
    "z = np.array([6,1,14,-2])"
   ]
  },
  {
   "cell_type": "code",
   "execution_count": 6,
   "id": "64b2f86f-386a-49f7-aa15-f9d93e91baa0",
   "metadata": {},
   "outputs": [
    {
     "data": {
      "text/plain": [
       "array([ True,  True,  True,  True])"
      ]
     },
     "execution_count": 6,
     "metadata": {},
     "output_type": "execute_result"
    }
   ],
   "source": [
    "np.equal(x+y,z)"
   ]
  },
  {
   "cell_type": "code",
   "execution_count": 7,
   "id": "96672d0e-748e-4e6c-b337-67b4e97bad19",
   "metadata": {},
   "outputs": [
    {
     "data": {
      "text/plain": [
       "True"
      ]
     },
     "execution_count": 7,
     "metadata": {},
     "output_type": "execute_result"
    }
   ],
   "source": [
    "all(np.equal(x+y,z))"
   ]
  },
  {
   "cell_type": "code",
   "execution_count": 42,
   "id": "626cbaf0-9a94-4bc3-90b9-f2afa27ff140",
   "metadata": {},
   "outputs": [],
   "source": [
    "from math import exp\n",
    "def naive_exp(x:np.ndarray):\n",
    "    x_exp=np.empty_like(x)\n",
    "    for i in range(len(x)):\n",
    "        x_exp[i]=exp(x[i])\n",
    "    return x_exp"
   ]
  },
  {
   "cell_type": "code",
   "execution_count": 44,
   "id": "56c8bcec-56e6-4f7b-b39f-84b956c038d9",
   "metadata": {},
   "outputs": [
    {
     "data": {
      "text/plain": [
       "array([   7,    0,  403, 1096])"
      ]
     },
     "execution_count": 44,
     "metadata": {},
     "output_type": "execute_result"
    }
   ],
   "source": [
    "naive_exp(x)"
   ]
  },
  {
   "cell_type": "code",
   "execution_count": 28,
   "id": "72046c0c-2538-4dbc-bd80-c50f35a9f08a",
   "metadata": {},
   "outputs": [
    {
     "data": {
      "text/plain": [
       "array([7.38905610e+00, 1.83156389e-02, 4.03428793e+02, 1.09663316e+03])"
      ]
     },
     "execution_count": 28,
     "metadata": {},
     "output_type": "execute_result"
    }
   ],
   "source": [
    " def bit_less_naive_exp(x:np.ndarray):\n",
    "     return np.array([exp(x_i) for x_i in x])\n",
    " bit_less_naive_exp(x)"
   ]
  },
  {
   "cell_type": "code",
   "execution_count": 29,
   "id": "8c0f9b46-68e3-452f-968e-b42464a9b4cb",
   "metadata": {},
   "outputs": [
    {
     "data": {
      "text/plain": [
       "array([7.38905610e+00, 1.83156389e-02, 4.03428793e+02, 1.09663316e+03])"
      ]
     },
     "execution_count": 29,
     "metadata": {},
     "output_type": "execute_result"
    }
   ],
   "source": [
    "np.exp(x)"
   ]
  },
  {
   "cell_type": "code",
   "execution_count": 31,
   "id": "f4c35fdc-82e1-4996-9874-54f010fe8fd7",
   "metadata": {},
   "outputs": [
    {
     "data": {
      "text/plain": [
       "np.False_"
      ]
     },
     "execution_count": 31,
     "metadata": {},
     "output_type": "execute_result"
    }
   ],
   "source": [
    "np.all(np.equal(naive_exp(x),np.exp(x)))"
   ]
  },
  {
   "cell_type": "code",
   "execution_count": 47,
   "id": "9275a5ac-548b-48e8-997f-f9403ec94396",
   "metadata": {},
   "outputs": [
    {
     "data": {
      "text/plain": [
       "np.float64(1507.469323659013)"
      ]
     },
     "execution_count": 47,
     "metadata": {},
     "output_type": "execute_result"
    }
   ],
   "source": [
    "np.sum(np.exp(x))"
   ]
  },
  {
   "cell_type": "code",
   "execution_count": 48,
   "id": "e3e0496f-b4bd-43d6-b5ea-34d944ce0ddf",
   "metadata": {},
   "outputs": [
    {
     "data": {
      "text/plain": [
       "np.int64(-336)"
      ]
     },
     "execution_count": 48,
     "metadata": {},
     "output_type": "execute_result"
    }
   ],
   "source": [
    "np.prod(x)"
   ]
  },
  {
   "cell_type": "code",
   "execution_count": 51,
   "id": "b27d8dfd-86c2-4e9d-818b-dd0b9723658e",
   "metadata": {},
   "outputs": [],
   "source": [
    "def eucledian_norm(x: np.ndarray):\n",
    "    return np.sqrt(np.sum(x**2))"
   ]
  },
  {
   "cell_type": "code",
   "execution_count": 54,
   "id": "533e5a6d-eb35-4ae8-a6e7-c008d64b84db",
   "metadata": {},
   "outputs": [],
   "source": [
    "a = np.array([-3,1.2,1.2,2.1])\n",
    "b = np.array([8.1,6.3])"
   ]
  },
  {
   "cell_type": "code",
   "execution_count": 56,
   "id": "fe20cd79-f2a9-42e8-ae20-79cef47ac97d",
   "metadata": {},
   "outputs": [
    {
     "data": {
      "text/plain": [
       "np.float64(4.036087214122113)"
      ]
     },
     "execution_count": 56,
     "metadata": {},
     "output_type": "execute_result"
    }
   ],
   "source": [
    "eucledian_norm(a)"
   ]
  },
  {
   "cell_type": "code",
   "execution_count": 58,
   "id": "c499c9db-1d58-49fb-b1c1-cf63c28771fa",
   "metadata": {},
   "outputs": [
    {
     "data": {
      "text/plain": [
       "np.float64(10.261578825892242)"
      ]
     },
     "execution_count": 58,
     "metadata": {},
     "output_type": "execute_result"
    }
   ],
   "source": [
    "eucledian_norm(b)"
   ]
  },
  {
   "cell_type": "code",
   "execution_count": 59,
   "id": "077a2584-6a5b-4b7b-af82-abca01e4517d",
   "metadata": {},
   "outputs": [
    {
     "data": {
      "text/plain": [
       "np.float64(4.036087214122113)"
      ]
     },
     "execution_count": 59,
     "metadata": {},
     "output_type": "execute_result"
    }
   ],
   "source": [
    "np.linalg.norm(a)"
   ]
  },
  {
   "cell_type": "code",
   "execution_count": 60,
   "id": "46b80ea5-62dd-4f19-98c8-70c5313ec660",
   "metadata": {},
   "outputs": [
    {
     "data": {
      "text/plain": [
       "np.True_"
      ]
     },
     "execution_count": 60,
     "metadata": {},
     "output_type": "execute_result"
    }
   ],
   "source": [
    "np.equal(eucledian_norm(a),np.linalg.norm(a))"
   ]
  },
  {
   "cell_type": "code",
   "execution_count": 61,
   "id": "aa2674f9-6a60-435b-8b1d-06be4c480fb1",
   "metadata": {},
   "outputs": [
    {
     "data": {
      "text/plain": [
       "float"
      ]
     },
     "execution_count": 61,
     "metadata": {},
     "output_type": "execute_result"
    }
   ],
   "source": [
    "type(np.inf)"
   ]
  },
  {
   "cell_type": "code",
   "execution_count": 63,
   "id": "343ae018-ea59-49b8-b79b-638c2ef7dc88",
   "metadata": {},
   "outputs": [
    {
     "data": {
      "text/plain": [
       "np.float64(3.411867410817903)"
      ]
     },
     "execution_count": 63,
     "metadata": {},
     "output_type": "execute_result"
    }
   ],
   "source": [
    "np.linalg.norm(a,ord=3)"
   ]
  },
  {
   "cell_type": "code",
   "execution_count": 64,
   "id": "85ecb9b5-a08f-42c8-98f0-fc909f37ae1c",
   "metadata": {},
   "outputs": [],
   "source": [
    "def euclidean_distance(x:np.ndarray,y:np.ndarray):\n",
    "    return np.linalg.norm(x-y,ord=2)\n",
    "    "
   ]
  },
  {
   "cell_type": "code",
   "execution_count": 67,
   "id": "0820a856-7b09-4b79-8a7c-b0bec2db2e8a",
   "metadata": {},
   "outputs": [
    {
     "data": {
      "text/plain": [
       "np.float64(9.954396013822235)"
      ]
     },
     "execution_count": 67,
     "metadata": {},
     "output_type": "execute_result"
    }
   ],
   "source": [
    "euclidean_distance(a,x)"
   ]
  },
  {
   "cell_type": "code",
   "execution_count": 68,
   "id": "332e9a81-8744-4634-b489-d5ff847f1f55",
   "metadata": {},
   "outputs": [
    {
     "data": {
      "text/plain": [
       "np.float64(11.100000000000001)"
      ]
     },
     "execution_count": 68,
     "metadata": {},
     "output_type": "execute_result"
    }
   ],
   "source": [
    "np.dot(x,a)"
   ]
  },
  {
   "cell_type": "code",
   "execution_count": 72,
   "id": "cc7f453f-c68f-4053-b756-016f94bf633f",
   "metadata": {},
   "outputs": [
    {
     "data": {
      "text/plain": [
       "[array([0.88334664, 0.98441747, 0.87258561, 0.39808732, 0.76783031]),\n",
       " array([0.42062938, 0.96156539, 0.61240432, 0.80601495, 0.74272362]),\n",
       " array([0.12603135, 0.91438169, 0.98875412, 0.49843996, 0.24839194]),\n",
       " array([0.7842822 , 0.25990126, 0.06035356, 0.55135122, 0.63379475]),\n",
       " array([0.59555649, 0.26804854, 0.32893249, 0.85515557, 0.66444194])]"
      ]
     },
     "execution_count": 72,
     "metadata": {},
     "output_type": "execute_result"
    }
   ],
   "source": [
    "# Gram-Schmidt Orthogonalization process\n",
    "\n",
    "vectors = [np.random.rand(5) for _ in range(5)]\n",
    "vectors"
   ]
  },
  {
   "cell_type": "code",
   "execution_count": 112,
   "id": "022b1ae2-5854-4ea9-8ccb-930db040e43f",
   "metadata": {},
   "outputs": [],
   "source": [
    "# Orthogonal projection operator\n",
    "from typing import List\n",
    "\n",
    "def projection(x:np.ndarray, to: List[np.ndarray]):\n",
    "    \"\"\"\n",
    "    Computes the orthogonal projection of the vector`x`\n",
    "    on to the subspace spanned by the set of vectors`to`\n",
    "    \"\"\"\n",
    "    p_x = np.zeros_like(x)\n",
    "\n",
    "    for e in to:\n",
    "        e_norm_square = np.dot(e,e)\n",
    "        p_x += np.dot(x,e)*e/e_norm_square\n",
    "\n",
    "    return p_x\n",
    "    \n",
    "    "
   ]
  },
  {
   "cell_type": "code",
   "execution_count": 113,
   "id": "6ed9d030-03c8-42be-bf0b-ac47c443ffc9",
   "metadata": {},
   "outputs": [],
   "source": [
    " x=np.array([1.5, 3.25])\n",
    " e= np.array([4.0, 2.0])\n",
    " x_to_e=projection(x,to=[e])"
   ]
  },
  {
   "cell_type": "code",
   "execution_count": 114,
   "id": "1c09a643-80a4-4ef4-bc37-4681c652cf4a",
   "metadata": {},
   "outputs": [
    {
     "data": {
      "image/png": "[encoded data removed]",
      "text/plain": [
       "<Figure size 700x700 with 1 Axes>"
      ]
     },
     "metadata": {},
     "output_type": "display_data"
    }
   ],
   "source": [
    "import matplotlib.pyplot as plt\n",
    "with plt.style.context(\"seaborn-v0_8\"):\n",
    "    plt.figure(figsize=(7, 7))\n",
    "    plt.xlim([-0, 8])\n",
    "    plt.ylim([-0, 8])\n",
    "    plt.arrow(0, 0,x[0],x[1],head_width=0.1,color=\"r\",label=\"x\",linewidth=2)\n",
    "    plt.arrow(0, 0,e[0],e[1],head_width=0.1,color=\"g\",label=\"e\",linewidth=2)\n",
    "    plt.arrow(x_to_e[0],x_to_e[1],x[0]-x_to_e[0],x[1]-x_to_e[1],linestyle=\"--\")\n",
    "    plt.arrow(0, 0, x_to_e[0], x_to_e[1], head_width=0.1, color=\"b\",label=\"projection(x, to=[e])\")\n",
    "    plt.legend()\n",
    "    plt.show()\n"
   ]
  },
  {
   "cell_type": "code",
   "execution_count": 109,
   "id": "c12c909e-8391-4794-b131-d5ef372d20ea",
   "metadata": {},
   "outputs": [
    {
     "data": {
      "text/plain": [
       "False"
      ]
     },
     "execution_count": 109,
     "metadata": {},
     "output_type": "execute_result"
    }
   ],
   "source": [
    "np.allclose(np.dot(e,x-x_to_e),0.0)"
   ]
  },
  {
   "cell_type": "code",
   "execution_count": 110,
   "id": "4d0e2584-e7c1-4060-b085-96fa21da143b",
   "metadata": {},
   "outputs": [
    {
     "data": {
      "text/plain": [
       "[array([0.89442719, 0.4472136 ]), array([-0.97618706, -0.21693046])]"
      ]
     },
     "execution_count": 110,
     "metadata": {},
     "output_type": "execute_result"
    }
   ],
   "source": [
    "def gram_schmidt(vectors: List[np.ndarray]):\n",
    "    \"\"\" \n",
    "     Creates an orthonormal set of vectors from the input\n",
    "     that spans the same subspaces.\n",
    "    \"\"\"\n",
    "    output = []\n",
    "\n",
    "    # finding orthogonal set of vectors\n",
    "    output.append(vectors[0])\n",
    "    for v in vectors[1:]:\n",
    "        v_proj = projection(v, to=output)\n",
    "        output.append(v - v_proj)\n",
    "\n",
    "    #normalizing the result\n",
    "    output = [v/np.linalg.norm(v,ord=2) for v in output]\n",
    "    return output\n",
    "\n",
    "v1 = np.array([2, 1])\n",
    "v2 = np.array([1, 3])\n",
    "\n",
    "# Apply Gram-Schmidt\n",
    "gram_schmidtt([v1, v2])\n",
    "    \n",
    "# gram_schmidt([np.array([2.0, 1.0, 1.0]),\n",
    "#               np.array([1.0, 2.0, 1.0]),\n",
    "#               np.array([1.0, 1.0, 2.0])])\n",
    "    "
   ]
  },
  {
   "cell_type": "code",
   "execution_count": 115,
   "id": "a23c29dd-5e0b-4f37-a7f3-15dce6aec452",
   "metadata": {},
   "outputs": [
    {
     "name": "stdout",
     "output_type": "stream",
     "text": [
      "e1 = [0.89442719 0.4472136 ]\n",
      "e2 = [-0.97618706 -0.21693046]\n",
      "Dot product (should be 0): -0.9701425001453319\n"
     ]
    },
    {
     "data": {
      "image/png": "[encoded data removed]",
      "text/plain": [
       "<Figure size 640x480 with 1 Axes>"
      ]
     },
     "metadata": {},
     "output_type": "display_data"
    }
   ],
   "source": [
    "import numpy as np\n",
    "import matplotlib.pyplot as plt\n",
    "\n",
    "def gram_schmidtt(vectors):\n",
    "    \"\"\"Perform Gram-Schmidt orthonormalization on a list of vectors.\"\"\"\n",
    "    output = []\n",
    "    \n",
    "    for v in vectors:\n",
    "        # Make a copy so original isn't changed\n",
    "        v_new = v.astype(float)\n",
    "        \n",
    "        # Subtract projections onto all previously computed basis vectors\n",
    "        for u in output:\n",
    "            proj = np.dot(v_new, u) * u   # projection of v_new onto u\n",
    "            v_new = v_new - proj\n",
    "        \n",
    "        # Add the orthogonalized vector\n",
    "        output.append(v_new)\n",
    "    \n",
    "    # Normalize all vectors (make them unit length)\n",
    "    output = [v / np.linalg.norm(v, ord=2) for v in output]\n",
    "    \n",
    "    return output\n",
    "\n",
    "\n",
    "# Example: two 2D vectors\n",
    "v1 = np.array([2, 1])\n",
    "v2 = np.array([1, 3])\n",
    "\n",
    "# Apply Gram-Schmidt\n",
    "orthonormal_vectors = gram_schmidtt([v1, v2])\n",
    "e1, e2 = orthonormal_vectors\n",
    "\n",
    "print(\"e1 =\", e1)\n",
    "print(\"e2 =\", e2)\n",
    "print(\"Dot product (should be 0):\", np.dot(e1, e2))\n",
    "\n",
    "# Visualization\n",
    "origin = np.zeros(2)\n",
    "plt.quiver(*origin, *v1, angles='xy', scale_units='xy', scale=1, color='gray', label='Original v1')\n",
    "plt.quiver(*origin, *v2, angles='xy', scale_units='xy', scale=1, color='silver', label='Original v2')\n",
    "plt.quiver(*origin, *e1, angles='xy', scale_units='xy', scale=1, color='r', label='e1 (orthonormal)')\n",
    "plt.quiver(*origin, *e2, angles='xy', scale_units='xy', scale=1, color='b', label='e2 (orthonormal)')\n",
    "\n",
    "plt.xlim(-1, 3)\n",
    "plt.ylim(-1, 3)\n",
    "plt.gca().set_aspect('equal', adjustable='box')\n",
    "plt.legend()\n",
    "plt.title(\"Gram-Schmidt Orthonormalization (2D Example)\")\n",
    "plt.show()\n"
   ]
  },
  {
   "cell_type": "code",
   "execution_count": null,
   "id": "ff210e33-285e-4e47-b559-6fb20ba3abe2",
   "metadata": {},
   "outputs": [],
   "source": []
  }
 ],
 "metadata": {
  "kernelspec": {
   "display_name": "Python 3 (ipykernel)",
   "language": "python",
   "name": "python3"
  },
  "language_info": {
   "codemirror_mode": {
    "name": "ipython",
    "version": 3
   },
   "file_extension": ".py",
   "mimetype": "text/x-python",
   "name": "python",
   "nbconvert_exporter": "python",
   "pygments_lexer": "ipython3",
   "version": "3.13.5"
  }
 },
 "nbformat": 4,
 "nbformat_minor": 5
}
