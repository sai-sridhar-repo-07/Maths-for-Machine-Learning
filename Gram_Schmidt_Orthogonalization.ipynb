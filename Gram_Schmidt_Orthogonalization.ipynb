{
 [
 
    "import numpy as np\n",
    "import matplotlib.pyplot as plt\n",
    "\n",
    "def gram_schmidtt(vectors):\n",
    "    \"\"\"Perform Gram-Schmidt orthonormalization on a list of vectors.\"\"\"\n",
    "    output = []\n",
    "    \n",
    "    for v in vectors:\n"
    "        # Make a copy so original isn't changed\n",
    "        v_new = v.astype(float)\n",
    "        \n",
    "        # Subtract projections onto all previously computed basis vectors\n",
    "        for u in output:\n",
    "            proj = np.dot(v_new, u) * u   # projection of v_new onto u\n",
    "            v_new = v_new - proj\n",
    "        \n",
    "        # Add the orthogonalized vector\n",
    "        output.append(v_new)\n",
    "    \n",
    "    # Normalize all vectors (make them unit length)\n",
    "    output = [v / np.linalg.norm(v, ord=2) for v in output]\n",
    "    \n",
    "    return output\n",
    "\n",
    "\n",
    "# Example: two 2D vectors\n",
    "v1 = np.array([2, 1])\n",
    "v2 = np.array([1, 3])\n",
    "\n",
    "# Apply Gram-Schmidt\n",
    "orthonormal_vectors = gram_schmidtt([v1, v2])\n",
    "e1, e2 = orthonormal_vectors\n",
    "\n",
    "print(\"e1 =\", e1)\n",
    "print(\"e2 =\", e2)\n",
    "print(\"Dot product (should be 0):\", np.dot(e1, e2))\n",
    "\n",
    "# Visualization\n",
    "origin = np.zeros(2)\n",
    "plt.quiver(*origin, *v1, angles='xy', scale_units='xy', scale=1, color='gray', label='Original v1')\n",
    "plt.quiver(*origin, *v2, angles='xy', scale_units='xy', scale=1, color='silver', label='Original v2')\n",
    "plt.quiver(*origin, *e1, angles='xy', scale_units='xy', scale=1, color='r', label='e1 (orthonormal)')\n",
    "plt.quiver(*origin, *e2, angles='xy', scale_units='xy', scale=1, color='b', label='e2 (orthonormal)')\n",
    "\n",
    "plt.xlim(-1, 3)\n",
    "plt.ylim(-1, 3)\n",
    "plt.gca().set_aspect('equal', adjustable='box')\n",
    "plt.legend()\n",
    "plt.title(\"Gram-Schmidt Orthonormalization (2D Example)\")\n",
    "plt.show()\n"
   ]
  },
  {
   "cell_type": "code",
   "execution_count": null,
   "id": "ff210e33-285e-4e47-b559-6fb20ba3abe2",
   "metadata": {},
   "outputs": [],
   "source": []
  }
 ],
 "metadata": {
  "kernelspec": {
   "display_name": "Python 3 (ipykernel)",
   "language": "python",
   "name": "python3"
  },
  "language_info": {
   "codemirror_mode": {
    "name": "ipython",
    "version": 3
   },
   "file_extension": ".py",
   "mimetype": "text/x-python",
   "name": "python",
   "nbconvert_exporter": "python",
   "pygments_lexer": "ipython3",
   "version": "3.13.5"
  }
 },
 "nbformat": 4,
 "nbformat_minor": 5
}
