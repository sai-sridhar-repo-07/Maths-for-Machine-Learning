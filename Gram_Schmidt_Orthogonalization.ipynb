import numpy as np
import matplotlib.pyplot as plt

def gram_schmidtt(vectors):
    """Perform Gram-Schmidt orthonormalization on a list of vectors."""
    output = []
    
    for v in vectors:
        # Make a copy so original isn't changed
        v_new = v.astype(float)
        
        # Subtract projections onto all previously computed basis vectors
        for u in output:
            proj = np.dot(v_new, u) * u   # projection of v_new onto u
            v_new = v_new - proj
        
        # Add the orthogonalized vector
        output.append(v_new)
    
    # Normalize all vectors (make them unit length)
    output = [v / np.linalg.norm(v, ord=2) for v in output]
    
    return output


# Example: two 2D vectors
v1 = np.array([2, 1])
v2 = np.array([1, 3])

# Apply Gram-Schmidt
orthonormal_vectors = gram_schmidtt([v1, v2])
e1, e2 = orthonormal_vectors

print("e1 =", e1)
print("e2 =", e2)
print("Dot product (should be 0):", np.dot(e1, e2))

# Visualization
origin = np.zeros(2)
plt.quiver(*origin, *v1, angles='xy', scale_units='xy', scale=1, color='gray', label='Original v1')
plt.quiver(*origin, *v2, angles='xy', scale_units='xy', scale=1, color='silver', label='Original v2')
plt.quiver(*origin, *e1, angles='xy', scale_units='xy', scale=1, color='r', label='e1 (orthonormal)')
plt.quiver(*origin, *e2, angles='xy', scale_units='xy', scale=1, color='b', label='e2 (orthonormal)')

plt.xlim(-1, 3)
plt.ylim(-1, 3)
plt.gca().set_aspect('equal', adjustable='box')
plt.legend()
plt.title("Gram-Schmidt Orthonormalization (2D Example)")
plt.show()
